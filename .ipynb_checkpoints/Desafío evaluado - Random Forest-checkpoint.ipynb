{
 "cells": [
  {
   "cell_type": "markdown",
   "metadata": {},
   "source": [
    "## Ejercicio 1: Preparación del ambiente de trabajo\n",
    "\n",
    "● Importe las librerías clásicas a utilizar\n",
    "\n",
    "● Para este ejercicio Random Forest de Regresión\n",
    "\n",
    "● De manera adicional importe las funciones y clases necesarias para generar undesempeño de métricas en problemas de regresión\n",
    "\n",
    "● Elimine la columna 'Unnamed: 0' cuando cargue los datos"
   ]
  },
  {
   "cell_type": "code",
   "execution_count": 1,
   "metadata": {},
   "outputs": [],
   "source": [
    "%matplotlib inline\n",
    "import warnings\n",
    "warnings.filterwarnings('ignore') \n",
    "\n",
    "import pandas as pd\n",
    "import numpy as np\n",
    "import matplotlib.pyplot as plt\n",
    "\n",
    "from sklearn.ensemble import RandomForestClassifier\n",
    "from sklearn.ensemble import RandomForestRegressor\n",
    "\n",
    "from sklearn.metrics import mean_squared_error, median_absolute_error, r2_score\n",
    "from sklearn.model_selection import train_test_split\n",
    "\n",
    "import pickle"
   ]
  },
  {
   "cell_type": "code",
   "execution_count": 2,
   "metadata": {},
   "outputs": [
    {
     "data": {
      "text/html": [
       "<div>\n",
       "<style scoped>\n",
       "    .dataframe tbody tr th:only-of-type {\n",
       "        vertical-align: middle;\n",
       "    }\n",
       "\n",
       "    .dataframe tbody tr th {\n",
       "        vertical-align: top;\n",
       "    }\n",
       "\n",
       "    .dataframe thead th {\n",
       "        text-align: right;\n",
       "    }\n",
       "</style>\n",
       "<table border=\"1\" class=\"dataframe\">\n",
       "  <thead>\n",
       "    <tr style=\"text-align: right;\">\n",
       "      <th></th>\n",
       "      <th>MS_SubClass</th>\n",
       "      <th>MS_Zoning</th>\n",
       "      <th>Lot_Frontage</th>\n",
       "      <th>Lot_Area</th>\n",
       "      <th>Street</th>\n",
       "      <th>Alley</th>\n",
       "      <th>Lot_Shape</th>\n",
       "      <th>Land_Contour</th>\n",
       "      <th>Utilities</th>\n",
       "      <th>Lot_Config</th>\n",
       "      <th>...</th>\n",
       "      <th>Fence</th>\n",
       "      <th>Misc_Feature</th>\n",
       "      <th>Misc_Val</th>\n",
       "      <th>Mo_Sold</th>\n",
       "      <th>Year_Sold</th>\n",
       "      <th>Sale_Type</th>\n",
       "      <th>Sale_Condition</th>\n",
       "      <th>Sale_Price</th>\n",
       "      <th>Longitude</th>\n",
       "      <th>Latitude</th>\n",
       "    </tr>\n",
       "  </thead>\n",
       "  <tbody>\n",
       "    <tr>\n",
       "      <th>0</th>\n",
       "      <td>One_Story_1946_and_Newer_All_Styles</td>\n",
       "      <td>Residential_Low_Density</td>\n",
       "      <td>141</td>\n",
       "      <td>31770</td>\n",
       "      <td>Pave</td>\n",
       "      <td>No_Alley_Access</td>\n",
       "      <td>Slightly_Irregular</td>\n",
       "      <td>Lvl</td>\n",
       "      <td>AllPub</td>\n",
       "      <td>Corner</td>\n",
       "      <td>...</td>\n",
       "      <td>No_Fence</td>\n",
       "      <td>None</td>\n",
       "      <td>0</td>\n",
       "      <td>5</td>\n",
       "      <td>2010</td>\n",
       "      <td>WD</td>\n",
       "      <td>Normal</td>\n",
       "      <td>215000</td>\n",
       "      <td>-93.619754</td>\n",
       "      <td>42.054035</td>\n",
       "    </tr>\n",
       "    <tr>\n",
       "      <th>1</th>\n",
       "      <td>One_Story_1946_and_Newer_All_Styles</td>\n",
       "      <td>Residential_High_Density</td>\n",
       "      <td>80</td>\n",
       "      <td>11622</td>\n",
       "      <td>Pave</td>\n",
       "      <td>No_Alley_Access</td>\n",
       "      <td>Regular</td>\n",
       "      <td>Lvl</td>\n",
       "      <td>AllPub</td>\n",
       "      <td>Inside</td>\n",
       "      <td>...</td>\n",
       "      <td>Minimum_Privacy</td>\n",
       "      <td>None</td>\n",
       "      <td>0</td>\n",
       "      <td>6</td>\n",
       "      <td>2010</td>\n",
       "      <td>WD</td>\n",
       "      <td>Normal</td>\n",
       "      <td>105000</td>\n",
       "      <td>-93.619756</td>\n",
       "      <td>42.053014</td>\n",
       "    </tr>\n",
       "    <tr>\n",
       "      <th>2</th>\n",
       "      <td>One_Story_1946_and_Newer_All_Styles</td>\n",
       "      <td>Residential_Low_Density</td>\n",
       "      <td>81</td>\n",
       "      <td>14267</td>\n",
       "      <td>Pave</td>\n",
       "      <td>No_Alley_Access</td>\n",
       "      <td>Slightly_Irregular</td>\n",
       "      <td>Lvl</td>\n",
       "      <td>AllPub</td>\n",
       "      <td>Corner</td>\n",
       "      <td>...</td>\n",
       "      <td>No_Fence</td>\n",
       "      <td>Gar2</td>\n",
       "      <td>12500</td>\n",
       "      <td>6</td>\n",
       "      <td>2010</td>\n",
       "      <td>WD</td>\n",
       "      <td>Normal</td>\n",
       "      <td>172000</td>\n",
       "      <td>-93.619387</td>\n",
       "      <td>42.052659</td>\n",
       "    </tr>\n",
       "    <tr>\n",
       "      <th>3</th>\n",
       "      <td>One_Story_1946_and_Newer_All_Styles</td>\n",
       "      <td>Residential_Low_Density</td>\n",
       "      <td>93</td>\n",
       "      <td>11160</td>\n",
       "      <td>Pave</td>\n",
       "      <td>No_Alley_Access</td>\n",
       "      <td>Regular</td>\n",
       "      <td>Lvl</td>\n",
       "      <td>AllPub</td>\n",
       "      <td>Corner</td>\n",
       "      <td>...</td>\n",
       "      <td>No_Fence</td>\n",
       "      <td>None</td>\n",
       "      <td>0</td>\n",
       "      <td>4</td>\n",
       "      <td>2010</td>\n",
       "      <td>WD</td>\n",
       "      <td>Normal</td>\n",
       "      <td>244000</td>\n",
       "      <td>-93.617320</td>\n",
       "      <td>42.051245</td>\n",
       "    </tr>\n",
       "    <tr>\n",
       "      <th>4</th>\n",
       "      <td>Two_Story_1946_and_Newer</td>\n",
       "      <td>Residential_Low_Density</td>\n",
       "      <td>74</td>\n",
       "      <td>13830</td>\n",
       "      <td>Pave</td>\n",
       "      <td>No_Alley_Access</td>\n",
       "      <td>Slightly_Irregular</td>\n",
       "      <td>Lvl</td>\n",
       "      <td>AllPub</td>\n",
       "      <td>Inside</td>\n",
       "      <td>...</td>\n",
       "      <td>Minimum_Privacy</td>\n",
       "      <td>None</td>\n",
       "      <td>0</td>\n",
       "      <td>3</td>\n",
       "      <td>2010</td>\n",
       "      <td>WD</td>\n",
       "      <td>Normal</td>\n",
       "      <td>189900</td>\n",
       "      <td>-93.638933</td>\n",
       "      <td>42.060899</td>\n",
       "    </tr>\n",
       "  </tbody>\n",
       "</table>\n",
       "<p>5 rows × 81 columns</p>\n",
       "</div>"
      ],
      "text/plain": [
       "                           MS_SubClass                 MS_Zoning  \\\n",
       "0  One_Story_1946_and_Newer_All_Styles   Residential_Low_Density   \n",
       "1  One_Story_1946_and_Newer_All_Styles  Residential_High_Density   \n",
       "2  One_Story_1946_and_Newer_All_Styles   Residential_Low_Density   \n",
       "3  One_Story_1946_and_Newer_All_Styles   Residential_Low_Density   \n",
       "4             Two_Story_1946_and_Newer   Residential_Low_Density   \n",
       "\n",
       "   Lot_Frontage  Lot_Area Street            Alley           Lot_Shape  \\\n",
       "0           141     31770   Pave  No_Alley_Access  Slightly_Irregular   \n",
       "1            80     11622   Pave  No_Alley_Access             Regular   \n",
       "2            81     14267   Pave  No_Alley_Access  Slightly_Irregular   \n",
       "3            93     11160   Pave  No_Alley_Access             Regular   \n",
       "4            74     13830   Pave  No_Alley_Access  Slightly_Irregular   \n",
       "\n",
       "  Land_Contour Utilities Lot_Config  ...            Fence Misc_Feature  \\\n",
       "0          Lvl    AllPub     Corner  ...         No_Fence         None   \n",
       "1          Lvl    AllPub     Inside  ...  Minimum_Privacy         None   \n",
       "2          Lvl    AllPub     Corner  ...         No_Fence         Gar2   \n",
       "3          Lvl    AllPub     Corner  ...         No_Fence         None   \n",
       "4          Lvl    AllPub     Inside  ...  Minimum_Privacy         None   \n",
       "\n",
       "  Misc_Val Mo_Sold Year_Sold Sale_Type Sale_Condition Sale_Price  Longitude  \\\n",
       "0        0       5      2010       WD          Normal     215000 -93.619754   \n",
       "1        0       6      2010       WD          Normal     105000 -93.619756   \n",
       "2    12500       6      2010       WD          Normal     172000 -93.619387   \n",
       "3        0       4      2010       WD          Normal     244000 -93.617320   \n",
       "4        0       3      2010       WD          Normal     189900 -93.638933   \n",
       "\n",
       "    Latitude  \n",
       "0  42.054035  \n",
       "1  42.053014  \n",
       "2  42.052659  \n",
       "3  42.051245  \n",
       "4  42.060899  \n",
       "\n",
       "[5 rows x 81 columns]"
      ]
     },
     "execution_count": 2,
     "metadata": {},
     "output_type": "execute_result"
    }
   ],
   "source": [
    "df = pd.read_csv('ames_housing.csv').drop(columns='Unnamed: 0')\n",
    "df.head(5)"
   ]
  },
  {
   "cell_type": "markdown",
   "metadata": {},
   "source": [
    "## Ejercicio 2: Importación de archivos serializados\n",
    "\n",
    "● Importe su modelo entrenado y sus conjuntos de entrenamiento y validación serializados la sesión pasada y evalúe el desempeño del modelo de su compañero con el suyo ¿Cuál es mejor? Si no puede ejecutar el modelo, comente cuáles pueden ser los causantes.\n",
    "\n",
    "● No es necesario que realice diagnósticos gráficos sobre el modelo, sólo reporte sus métricas.\n",
    "\n",
    "● Para importar un archivo serializado, puede ocupar la siguiente línea de código:\n",
    "\n",
    "import pickle\n",
    "read_model = pickle.load(open(\"ignacio-soto-act07.sav\",\"rb\"))\n"
   ]
  },
  {
   "cell_type": "code",
   "execution_count": 3,
   "metadata": {},
   "outputs": [],
   "source": [
    "model = pickle.load(open('modelo_save.sav','rb'))\n",
    "X_train = pickle.load(open('X_train.sav','rb'))\n",
    "X_test = pickle.load(open('X_test.sav','rb'))\n",
    "y_train = pickle.load(open('y_train.sav','rb'))\n",
    "y_test = pickle.load(open('y_test.sav','rb'))\n"
   ]
  },
  {
   "cell_type": "code",
   "execution_count": 52,
   "metadata": {},
   "outputs": [],
   "source": [
    "def report_cont_metrics(model, y_true=y_test, X_test=X_test):\n",
    "    fit_model = model.predict(X_test)\n",
    "    print(\"=\"*50)\n",
    "    print('Error cuadratico medio:')\n",
    "    print(mean_squared_error(y_true, fit_model).round(3))\n",
    "    print(\"=\"*50)\n",
    "    print('Desviacion media absoluta:')\n",
    "    print(median_absolute_error(y_true, fit_model).round(3))\n",
    "    print(\"=\"*50)\n",
    "    print('Error cuadratico R2:')\n",
    "    print(r2_score(y_true, fit_model).round(3))"
   ]
  },
  {
   "cell_type": "code",
   "execution_count": 53,
   "metadata": {},
   "outputs": [
    {
     "name": "stdout",
     "output_type": "stream",
     "text": [
      "==================================================\n",
      "Error cuadratico medio:\n",
      "1547429044.426\n",
      "==================================================\n",
      "Desviacion media absoluta:\n",
      "16276.0\n",
      "==================================================\n",
      "Error cuadratico R2:\n",
      "0.728\n"
     ]
    }
   ],
   "source": [
    "report_cont_metrics(model)"
   ]
  },
  {
   "cell_type": "markdown",
   "metadata": {},
   "source": [
    "## Ejercicio 3: Evaluación Random Forest\n",
    "\n",
    "● En base a los conjuntos de entrenamiento serializados, genere un modelo utilizando sklearn.ensemble.RandomForest sin modificar hiper parámetros, sólo declarando la semilla pseudoaleatoria.\n",
    "\n",
    "● Reporte su desempeño y compárelo con su modelo de la sesión pasada, así como con el de su compañero\n"
   ]
  },
  {
   "cell_type": "code",
   "execution_count": 6,
   "metadata": {},
   "outputs": [],
   "source": [
    "model_1 = RandomForestRegressor(oob_score=True,random_state=11238).fit(X_train, y_train)"
   ]
  },
  {
   "cell_type": "code",
   "execution_count": 55,
   "metadata": {},
   "outputs": [
    {
     "name": "stdout",
     "output_type": "stream",
     "text": [
      "MSE: 1124424204.8001\n",
      "MAE: 13410.3\n",
      "R2: 0.8022\n"
     ]
    }
   ],
   "source": [
    "print(\"MSE:\", mean_squared_error(y_test, model_1.predict(X_test)).round(4))\n",
    "print(\"MAE:\", median_absolute_error(y_test, model_1.predict(X_test)).round(4))\n",
    "print(\"R2:\", r2_score(y_test, model_1.predict(X_test)).round(4))"
   ]
  },
  {
   "cell_type": "code",
   "execution_count": 29,
   "metadata": {},
   "outputs": [],
   "source": [
    "#print(classification_report(y_test_load, y_hat))\n",
    "#model_1 = RandomForestClassifier(oob_score=True,random_state=11238).fit(X_train_load, y_train_load)"
   ]
  },
  {
   "cell_type": "code",
   "execution_count": 57,
   "metadata": {},
   "outputs": [
    {
     "name": "stdout",
     "output_type": "stream",
     "text": [
      "==================================================\n",
      "Modelo RandomForestRegressor:\n",
      "==================================================\n",
      "MSE: 1124424204.8001\n",
      "MAE: 13410.3\n",
      "R2: 0.8022\n",
      "==================================================\n",
      "Modelo DecisionTreeRegressor:\n",
      "==================================================\n",
      "MSE: 1547429044.4258\n",
      "MAE: 16276.0\n",
      "R2: 0.7277\n"
     ]
    }
   ],
   "source": [
    "print('='*50)\n",
    "print(\"Modelo RandomForestRegressor:\")\n",
    "print('='*50)\n",
    "print(\"MSE:\", mean_squared_error(y_test, model_1.predict(X_test)).round(4))\n",
    "print(\"MAE:\", median_absolute_error(y_test, model_1.predict(X_test)).round(4))\n",
    "print(\"R2:\", r2_score(y_test, model_1.predict(X_test)).round(4))\n",
    "print('='*50)\n",
    "print(\"Modelo DecisionTreeRegressor:\")\n",
    "print('='*50)\n",
    "print(\"MSE:\", mean_squared_error(y_test, model.predict(X_test)).round(4))\n",
    "print(\"MAE:\", median_absolute_error(y_test, model.predict(X_test)).round(4))\n",
    "print(\"R2:\", r2_score(y_test, model.predict(X_test)).round(4))"
   ]
  },
  {
   "cell_type": "markdown",
   "metadata": {},
   "source": [
    "## Ejercicio 4: Reporte las métricas de desempeño\n",
    "\n",
    "● Para afinar el comportamiento de nuestro modelo, evalúe su desempeño con los siguientes hiper parámetros:\n",
    "\n",
    "○ max_features: None, log2, sqrt.\n",
    "○ n_estimators: Evaluar entre 20 y 1000 en pasos de 50.\n",
    "\n",
    "● Guarde la tasa de error en la exactitud medida con OOB\n",
    "\n",
    "● Grafique el comportamiento.\n"
   ]
  },
  {
   "cell_type": "code",
   "execution_count": 27,
   "metadata": {},
   "outputs": [],
   "source": [
    "tmp_oob_none, tmp_oob_sqrt,tmp_oob_log2 = [], [], []\n",
    "tmp_test_mse_none, tmp_test_mse_sqrt, tmp_test_mse_log = [], [], []\n",
    "n_estimators = range(20, 1000, 25)\n",
    "\n",
    "for i in n_estimators:\n",
    "    \n",
    "    model_1_none = RandomForestRegressor(n_estimators= i,\n",
    "                                            max_features=None, \n",
    "                                            oob_score=True,\n",
    "                                            random_state=123).fit(X_train, y_train)\n",
    "\n",
    "    model_1_sqrt = RandomForestRegressor(n_estimators= i, \n",
    "                                            max_features=\"sqrt\",\n",
    "                                            warm_start=True,\n",
    "                                            oob_score=True,\n",
    "                                            random_state=123).fit(X_train, y_train)\n",
    "    \n",
    "    model_1_log = RandomForestRegressor(n_estimators= i,\n",
    "                                           max_features=\"log2\",\n",
    "                                           warm_start=True,\n",
    "                                           oob_score=True,\n",
    "                                           random_state=123).fit(X_train, y_train)\n",
    "\n",
    "    \n",
    "    tmp_oob_none.append(1 - model_1_none.oob_score_)\n",
    "    tmp_oob_sqrt.append(1 - model_1_sqrt.oob_score_)\n",
    "    tmp_oob_log2.append(1 - model_1_log.oob_score_)\n",
    "\n",
    "    #Aplicar metricas para RandomForestRegressor sustituir accuracy\n",
    "    \n",
    "    tmp_test_mse_none.append(1 - r2_score(y_test, model_1_none.predict(X_test)))\n",
    "    tmp_test_mse_sqrt.append(1 - r2_score(y_test,model_1_sqrt.predict(X_test)))\n",
    "    tmp_test_mse_log.append(1 - r2_score(y_test,model_1_log.predict(X_test)))"
   ]
  },
  {
   "cell_type": "code",
   "execution_count": 33,
   "metadata": {},
   "outputs": [
    {
     "data": {
      "text/plain": [
       "<Figure size 1152x720 with 0 Axes>"
      ]
     },
     "metadata": {},
     "output_type": "display_data"
    },
    {
     "data": {
      "image/png": "[encoded data removed]",
      "text/plain": [
       "<Figure size 432x288 with 3 Axes>"
      ]
     },
     "metadata": {
      "needs_background": "light"
     },
     "output_type": "display_data"
    }
   ],
   "source": [
    "plt.figure(figsize=(16, 10));\n",
    "fig, axs = plt.subplots(1, 3, sharex=True, sharey=True);\n",
    "axs[0].plot(tmp_oob_log2, '.-', label='OOB error rate');\n",
    "axs[0].plot(tmp_test_mse_log, '.-', label='Test error rate');\n",
    "axs[0].set_title('Log2');\n",
    "axs[1].plot(tmp_oob_sqrt,'.-', label='OOB error rate');\n",
    "axs[1].plot(tmp_test_mse_sqrt,'.-', label='Test error rate');\n",
    "axs[1].set_title('Squared Root');\n",
    "axs[2].plot(tmp_oob_none, '.-', label='OOB error rate');\n",
    "axs[2].plot(tmp_test_mse_none,'.-', label='Test error rate');\n",
    "axs[2].set_title('None');\n",
    "plt.tight_layout();\n",
    "plt.legend();"
   ]
  },
  {
   "cell_type": "markdown",
   "metadata": {},
   "source": [
    "## Ejercicio 5: Refactoriza el modelo\n",
    "\n",
    "● En base a la mejor combinación de hiper parámetros, reentrene el modelo y comente su desempeño."
   ]
  },
  {
   "cell_type": "code",
   "execution_count": 34,
   "metadata": {},
   "outputs": [],
   "source": [
    "model_re = RandomForestRegressor(max_features=\"sqrt\",\n",
    "                                    warm_start=True,\n",
    "                                    oob_score=True,\n",
    "                                    random_state=123).fit(X_train, y_train)"
   ]
  },
  {
   "cell_type": "code",
   "execution_count": 37,
   "metadata": {},
   "outputs": [
    {
     "name": "stdout",
     "output_type": "stream",
     "text": [
      "MSE: 1030554623.0665\n",
      "MAE: 13210.0\n",
      "R2: 0.8187\n"
     ]
    }
   ],
   "source": [
    "print(\"MSE:\", mean_squared_error(y_test, model_re.predict(X_test)).round(4))\n",
    "print(\"MAE:\", median_absolute_error(y_test, model_re.predict(X_test)).round(4))\n",
    "print(\"R2:\", r2_score(y_test, model_re.predict(X_test)).round(4))"
   ]
  },
  {
   "cell_type": "markdown",
   "metadata": {},
   "source": [
    "#####  Se obtiene un mejor desempeño en ocupando el modelo RandomForestRegressor con hiperparametros"
   ]
  },
  {
   "cell_type": "code",
   "execution_count": 41,
   "metadata": {},
   "outputs": [
    {
     "name": "stdout",
     "output_type": "stream",
     "text": [
      "R2: 0.8022\n"
     ]
    }
   ],
   "source": [
    "# Metrica modelo RandomForestRegressor sin parametros solo con random_state\n",
    "print(\"R2:\", r2_score(y_test, model_1.predict(X_test)).round(4))"
   ]
  },
  {
   "cell_type": "code",
   "execution_count": 42,
   "metadata": {},
   "outputs": [
    {
     "name": "stdout",
     "output_type": "stream",
     "text": [
      "R2: 0.7277\n"
     ]
    }
   ],
   "source": [
    "# Modelo sesion anterior ocupando DecisionTreeRegressor\n",
    "print(\"R2:\", r2_score(y_test, model.predict(X_test)).round(4))"
   ]
  },
  {
   "cell_type": "code",
   "execution_count": 43,
   "metadata": {},
   "outputs": [
    {
     "data": {
      "text/plain": [
       "DecisionTreeRegressor(criterion='mse', max_depth=8.0, max_features=4,\n",
       "                      max_leaf_nodes=None, min_impurity_decrease=0.0,\n",
       "                      min_impurity_split=None, min_samples_leaf=1,\n",
       "                      min_samples_split=2, min_weight_fraction_leaf=0.0,\n",
       "                      presort=False, random_state=None, splitter='best')"
      ]
     },
     "execution_count": 43,
     "metadata": {},
     "output_type": "execute_result"
    }
   ],
   "source": [
    "model"
   ]
  }
 ],
 "metadata": {
  "kernelspec": {
   "display_name": "Python 3",
   "language": "python",
   "name": "python3"
  },
  "language_info": {
   "codemirror_mode": {
    "name": "ipython",
    "version": 3
   },
   "file_extension": ".py",
   "mimetype": "text/x-python",
   "name": "python",
   "nbconvert_exporter": "python",
   "pygments_lexer": "ipython3",
   "version": "3.7.3"
  }
 },
 "nbformat": 4,
 "nbformat_minor": 2
}
